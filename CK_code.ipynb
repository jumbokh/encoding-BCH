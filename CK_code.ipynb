{
  "nbformat": 4,
  "nbformat_minor": 0,
  "metadata": {
    "colab": {
      "name": "CK_code.ipynb",
      "provenance": []
    },
    "kernelspec": {
      "name": "python3",
      "display_name": "Python 3"
    }
  },
  "cells": [
    {
      "cell_type": "code",
      "metadata": {
        "id": "PBxxFRd8OqY1"
      },
      "source": [
        "from tensorflow import keras\n",
        "from keras import backend as K\n",
        "import numpy as np\n",
        "import math\n",
        "from scipy import special\n",
        "import random"
      ],
      "execution_count": 1,
      "outputs": []
    },
    {
      "cell_type": "code",
      "metadata": {
        "id": "0sxBi24vpuXo"
      },
      "source": [
        "C=63 #碼長\n",
        "def Channel(_message, _w): #通道雜訊\n",
        "    DB = 4\n",
        "    Eb = 1\n",
        "    No = math.sqrt((10**-(DB/10))/2)\n",
        "    a = [0 for _ in range(0, C)]\n",
        "    p = 0.5 - special.erf(math.sqrt(2.0 * Eb / No) / math.sqrt(2.0)) / 2\n",
        "    p = 1 - ((1 + special.erf(math.sqrt(2.0 * Eb / No) / math.sqrt(2.0))) / 2)\n",
        "    BIN = []\n",
        "    Y = []\n",
        "    for i in range(0, C):\n",
        "      BIN.append((_message >> i) & 1)\n",
        "    BIN.reverse()\n",
        "    while (_w > 0):\n",
        "      n = int(random.uniform(0, C))\n",
        "      if (a[n] == 0):\n",
        "        a[n] = 1\n",
        "        _w = _w - 1\n",
        "    for i in range(0, C):\n",
        "      U = random.random()\n",
        "      F = p + (1 - p) * U\n",
        "      if (a[i] == 1):\n",
        "        F = p * U\n",
        "      y = math.sqrt(Eb) + math.sqrt(No) * special.erfinv(2 * F - 1)\n",
        "      if (BIN[i] == 1):\n",
        "        Y.append(-y)\n",
        "      else:\n",
        "        Y.append(y)\n",
        "    return Y,a"
      ],
      "execution_count": 2,
      "outputs": []
    },
    {
      "cell_type": "code",
      "metadata": {
        "id": "-DJi_goZTi6j"
      },
      "source": [
        "num_classes = 63\n",
        "def mycrossentropy(y_true, y_pred, e=0.1):\n",
        "    return (1 - e) * keras.losses.binary_crossentropy(y_pred, y_true) + e * keras.losses.binary_crossentropy(y_pred, K.ones_like(y_pred) / num_classes)"
      ],
      "execution_count": 3,
      "outputs": []
    },
    {
      "cell_type": "code",
      "metadata": {
        "colab": {
          "base_uri": "https://localhost:8080/"
        },
        "id": "qcmbio3tOmiP",
        "outputId": "711c281b-cca6-4a96-e8a3-a2e6264f52a3"
      },
      "source": [
        "COUNT = 5000 #執行次數\n",
        "SUM = 0\n",
        "STD = 0\n",
        "\n",
        "for _ in range(0 ,COUNT):\n",
        "  Data = int(random.uniform(0, C))\n",
        "  A, B = Channel(0, 0)\n",
        "  arr = np.array(A)\n",
        "  SUM = SUM + arr.mean()\n",
        "  STD = STD + arr.std()\n",
        "  # -------硬判決-------\n",
        "  # ans = []\n",
        "  # for i in range(len(A)):\n",
        "  #   if (A[i] > 0):\n",
        "  #     ans.append(0.)\n",
        "  #   else :\n",
        "  #     ans.append(1.)\n",
        "  # A = np.array(ans)\n",
        "  # --------------------\n",
        "\n",
        "  # print(mycrossentropy(A, B, 0.1))\n",
        "  \n",
        "print('-----------')\n",
        "print('平均值 : ' + str(SUM / COUNT))\n",
        "print('標準差 : ' + str(STD / COUNT))"
      ],
      "execution_count": 4,
      "outputs": [
        {
          "output_type": "stream",
          "text": [
            "-----------\n",
            "平均值 : 1.020877751312961\n",
            "標準差 : 0.44433397728655655\n"
          ],
          "name": "stdout"
        }
      ]
    },
    {
      "cell_type": "code",
      "metadata": {
        "id": "DQyYuofqQW-F"
      },
      "source": [
        ""
      ],
      "execution_count": null,
      "outputs": []
    }
  ]
}