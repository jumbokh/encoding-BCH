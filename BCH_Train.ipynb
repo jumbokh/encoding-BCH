{
  "nbformat": 4,
  "nbformat_minor": 0,
  "metadata": {
    "colab": {
      "name": "BCH_Train.ipynb",
      "provenance": [],
      "include_colab_link": true
    },
    "kernelspec": {
      "name": "python3",
      "display_name": "Python 3"
    }
  },
  "cells": [
    {
      "cell_type": "markdown",
      "metadata": {
        "id": "view-in-github",
        "colab_type": "text"
      },
      "source": [
        "<a href=\"https://colab.research.google.com/github/jumbokh/encoding-BCH/blob/main/BCH_Train.ipynb\" target=\"_parent\"><img src=\"https://colab.research.google.com/assets/colab-badge.svg\" alt=\"Open In Colab\"/></a>"
      ]
    },
    {
      "cell_type": "markdown",
      "metadata": {
        "id": "hF5prQ2nceLc"
      },
      "source": [
        "### 連接雲端硬碟"
      ]
    },
    {
      "cell_type": "code",
      "metadata": {
        "id": "b9mhxhpaZjhJ"
      },
      "source": [
        "from google.colab import drive\n",
        "drive.mount('/content/gdrive') # 點擊網址，選擇 Google 帳號登入，然後將授權碼貼回輸入框中"
      ],
      "execution_count": null,
      "outputs": []
    },
    {
      "cell_type": "code",
      "metadata": {
        "id": "_Vf-SRL_Z06E"
      },
      "source": [
        "!ln -fs /content/gdrive/My\\ Drive/Colab\\ Notebooks/ /app\n",
        "%cd /app"
      ],
      "execution_count": null,
      "outputs": []
    },
    {
      "cell_type": "code",
      "metadata": {
        "id": "JQ_29oM-c5J0"
      },
      "source": [
        "!ls # 確定目錄有訓練資料"
      ],
      "execution_count": null,
      "outputs": []
    },
    {
      "cell_type": "markdown",
      "metadata": {
        "id": "HvuG8NtLclXg"
      },
      "source": [
        "### 載入必要套件"
      ]
    },
    {
      "cell_type": "code",
      "metadata": {
        "id": "BirCVuiLavLt"
      },
      "source": [
        "import os\n",
        "import numpy as np\n",
        "import pandas as pd\n",
        "import tensorflow as tf\n",
        "import matplotlib.pyplot as plt\n",
        "\n",
        "from tensorflow import keras\n",
        "from tensorflow.keras import layers"
      ],
      "execution_count": null,
      "outputs": []
    },
    {
      "cell_type": "markdown",
      "metadata": {
        "id": "zoNPrSSJcwI3"
      },
      "source": [
        "### 讀取訓練資料"
      ]
    },
    {
      "cell_type": "code",
      "metadata": {
        "id": "MQ0Fxvu7Z5IU"
      },
      "source": [
        "data_Training = pd.read_table(\"data/Training_one_to_50000.txt\",sep=',',header=None)\n",
        "data_Training.shape\n",
        "data_Training.head()"
      ],
      "execution_count": null,
      "outputs": []
    },
    {
      "cell_type": "code",
      "metadata": {
        "id": "zzLPbY5u2xxY"
      },
      "source": [
        "data_Training.dtypes"
      ],
      "execution_count": null,
      "outputs": []
    },
    {
      "cell_type": "code",
      "metadata": {
        "id": "MyLAZ90P23M9"
      },
      "source": [
        "data_Training.shape"
      ],
      "execution_count": null,
      "outputs": []
    },
    {
      "cell_type": "code",
      "metadata": {
        "id": "1Ak_ts7D87nE"
      },
      "source": [
        "data_Validation = pd.read_table(\"data/Validation_one_to_50000.txt\",sep=',',header=None)\n",
        "data_Validation.shape\n",
        "data_Validation.head()"
      ],
      "execution_count": null,
      "outputs": []
    },
    {
      "cell_type": "code",
      "metadata": {
        "id": "Idp97bw8itm7"
      },
      "source": [
        "data_Validation.dtypes"
      ],
      "execution_count": null,
      "outputs": []
    },
    {
      "cell_type": "markdown",
      "metadata": {
        "id": "dlqaKUDujOqY"
      },
      "source": [
        "分割數據集（Dataset）：將數據集切割成三個部份，訓練數據（Training data）、驗證數據（Validation data）和測試數據（Testing data）。\n"
      ]
    },
    {
      "cell_type": "code",
      "metadata": {
        "id": "KRiJh6W_jD30"
      },
      "source": [
        "data_num = data_Training.shape[0]\n",
        "# 取得一筆與data數量相同的亂數索引，主要目的是用於打散資料\n",
        "indexes = np.random.permutation(data_num)\n",
        "# 並將亂數索引值分為Train、val和test分為，這裡的劃分比例為6:2:2\n",
        "train_indexes = indexes[:int(data_num *0.8)]\n",
        "val_indexes = indexes[int(data_num *0.2):]\n",
        "# 透過索引值從data取出訓練資料、驗證資料和測試資料\n",
        "x_train = data_Training.loc[train_indexes]\n",
        "x_val = data_Training.loc[val_indexes]"
      ],
      "execution_count": null,
      "outputs": []
    },
    {
      "cell_type": "code",
      "metadata": {
        "id": "z-8URszTTASk"
      },
      "source": [
        "data_num = data_Validation.shape[0]\n",
        "# 取得一筆與data數量相同的亂數索引，主要目的是用於打散資料\n",
        "indexes = np.random.permutation(data_num)\n",
        "# 並將亂數索引值分為Train、val和test分為，這裡的劃分比例為6:2:2\n",
        "train_indexes = indexes[:int(data_num *0.8)]\n",
        "val_indexes = indexes[int(data_num *0.2):]\n",
        "# 透過索引值從data取出訓練資料、驗證資料和測試資料\n",
        "y_train = data_Validation.loc[train_indexes]\n",
        "y_val = data_Validation.loc[val_indexes]"
      ],
      "execution_count": null,
      "outputs": []
    },
    {
      "cell_type": "markdown",
      "metadata": {
        "id": "cA6a8OcljWZN"
      },
      "source": [
        "### 建立並訓練網路模型\n",
        "\n",
        "這裡建構三層全連接層的網路架構，並且使用ReLU作為隱藏層的激活函數，而由於需得到線性輸出，故輸出層不使用任何激活函數。"
      ]
    },
    {
      "cell_type": "code",
      "metadata": {
        "id": "QTruvj__cgZi"
      },
      "source": [
        "# 建立一個Sequential型態的model\n",
        "model = keras.Sequential(name='model-1')\n",
        "model.add(layers.Dense(300, activation='relu', input_shape=(75,)))\n",
        "model.add(layers.Dense(300, activation='relu'))\n",
        "model.add(layers.Dense(300, activation='relu'))\n",
        "model.add(layers.Dense(300, activation='relu'))\n",
        "model.add(layers.Dense(300, activation='relu'))\n",
        "model.add(layers.Dense(300, activation='relu'))\n",
        "model.add(layers.Dense(300, activation='relu'))\n",
        "model.add(layers.Dense(63, activation='tanh')) # 輸出層\n",
        "# 顯示網路模型架構\n",
        "model.summary()"
      ],
      "execution_count": null,
      "outputs": []
    },
    {
      "cell_type": "code",
      "metadata": {
        "id": "287hu4uJgW3n"
      },
      "source": [
        "model.compile(keras.optimizers.Adam(),\n",
        "               # loss=keras.losses.BinaryCrossentropy(), \n",
        "               loss=keras.losses.BinaryCrossentropy(from_logits=True), \n",
        "               metrics=[keras.metrics.BinaryAccuracy()])"
      ],
      "execution_count": null,
      "outputs": []
    },
    {
      "cell_type": "code",
      "metadata": {
        "id": "y57hkfMGtWEs"
      },
      "source": [
        "model_dir = 'BCH-logs'\n",
        "\n",
        "# TensorBoard回調函數會幫忙紀錄訓練資訊，並存成TensorBoard的紀錄檔\n",
        "log_dir = os.path.join('BCH-logs', 'model-1')\n",
        "model_cbk = keras.callbacks.TensorBoard(log_dir=log_dir)\n",
        "# ModelCheckpoint回調函數幫忙儲存網路模型，可以設定只儲存最好的模型，「monitor」表示被監測的數據，「mode」min則代表監測數據越小越好。\n",
        "model_mckp = keras.callbacks.ModelCheckpoint(model_dir + '/Best-model-1.h5', \n",
        "                                        monitor='val_mean_absolute_error', \n",
        "                                        save_best_only=True, \n",
        "                                        mode='min')"
      ],
      "execution_count": null,
      "outputs": []
    },
    {
      "cell_type": "code",
      "metadata": {
        "id": "xUo-aoNFhB48"
      },
      "source": [
        "history = model.fit(x_train, y_train,  # 傳入訓練數據\n",
        "               batch_size=74,  # 批次大小設為64\n",
        "               epochs=5,  # 整個dataset訓練300遍\n",
        "               validation_data=(x_val, y_val),  # 驗證數據\n",
        "               callbacks=[model_cbk, model_mckp])  # Tensorboard回調函數紀錄訓練過程，ModelCheckpoint回調函數儲存最好的模型"
      ],
      "execution_count": null,
      "outputs": []
    },
    {
      "cell_type": "code",
      "metadata": {
        "id": "TzDEXOf3hbDd"
      },
      "source": [
        "history.history.keys()"
      ],
      "execution_count": null,
      "outputs": []
    },
    {
      "cell_type": "code",
      "metadata": {
        "id": "jtO8eSO4vzmq"
      },
      "source": [
        "plt.plot(history.history['loss'], label='train')\n",
        "plt.plot(history.history['val_loss'], label='validation')\n",
        "# plt.ylim(0.02, 0.2)\n",
        "plt.title('Mean square error')\n",
        "plt.ylabel('loss')\n",
        "plt.xlabel('epochs')\n",
        "plt.legend(loc='upper right')"
      ],
      "execution_count": null,
      "outputs": []
    },
    {
      "cell_type": "code",
      "metadata": {
        "id": "R3l25KI4v6gk"
      },
      "source": [
        "plt.plot(history.history['mean_absolute_error'], label='train')\n",
        "plt.plot(history.history['val_mean_absolute_error'], label='validation')\n",
        "# plt.ylim(0.12, 0.26)\n",
        "plt.title('Mean absolute error')\n",
        "plt.ylabel('metrics')\n",
        "plt.xlabel('epochs')\n",
        "plt.legend(loc='upper right')"
      ],
      "execution_count": null,
      "outputs": []
    },
    {
      "cell_type": "code",
      "metadata": {
        "id": "e5CqDKmEwDv9"
      },
      "source": [
        "%load_ext tensorboard\n",
        "%tensorboard --port 9530 --logdir BCH-logs\n"
      ],
      "execution_count": null,
      "outputs": []
    },
    {
      "cell_type": "code",
      "metadata": {
        "id": "GZIFsDY95S6e"
      },
      "source": [
        "test_data_Training = pd.read_table(\"data/text_Training_one_to_50000.txt\",sep=',',header=None)\n",
        "test_data_Training.shape\n",
        "test_data_Training.head()"
      ],
      "execution_count": null,
      "outputs": []
    },
    {
      "cell_type": "code",
      "metadata": {
        "id": "VRrKBfYt6dXD"
      },
      "source": [
        "test_data_Validation = pd.read_table(\"data/text_Validation_one_to_50000.txt\",sep=',',header=None)\n",
        "test_data_Validation.shape\n",
        "test_data_Validation.head()"
      ],
      "execution_count": null,
      "outputs": []
    },
    {
      "cell_type": "code",
      "metadata": {
        "id": "MLCGTl086iG4"
      },
      "source": [
        "model = keras.models.load_model('BCH-logs/Best-model-1.h5')\n",
        "y_test = test_data_Validation\n",
        "x_test = test_data_Training\n",
        "y_pred = model.predict(x_test)"
      ],
      "execution_count": null,
      "outputs": []
    },
    {
      "cell_type": "code",
      "metadata": {
        "id": "AmyqpxDh7QgB"
      },
      "source": [
        "y_pred[1]"
      ],
      "execution_count": null,
      "outputs": []
    },
    {
      "cell_type": "code",
      "metadata": {
        "id": "cgxgTk2iqKU8"
      },
      "source": [
        "y_test[1]"
      ],
      "execution_count": null,
      "outputs": []
    },
    {
      "cell_type": "code",
      "metadata": {
        "id": "myE04pTR0UJy"
      },
      "source": [
        "3**5"
      ],
      "execution_count": null,
      "outputs": []
    },
    {
      "cell_type": "code",
      "metadata": {
        "id": "01zH5EGmbtms"
      },
      "source": [
        "\n"
      ],
      "execution_count": null,
      "outputs": []
    }
  ]
}