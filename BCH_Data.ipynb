{
  "nbformat": 4,
  "nbformat_minor": 0,
  "metadata": {
    "colab": {
      "name": "BCH-Data.ipynb",
      "provenance": [],
      "authorship_tag": "ABX9TyMeJ+GXoNKTgSt7zLlgULaT",
      "include_colab_link": true
    },
    "kernelspec": {
      "name": "python3",
      "display_name": "Python 3"
    }
  },
  "cells": [
    {
      "cell_type": "markdown",
      "metadata": {
        "id": "view-in-github",
        "colab_type": "text"
      },
      "source": [
        "<a href=\"https://colab.research.google.com/github/jumbokh/encoding-BCH/blob/main/BCH_Data.ipynb\" target=\"_parent\"><img src=\"https://colab.research.google.com/assets/colab-badge.svg\" alt=\"Open In Colab\"/></a>"
      ]
    },
    {
      "cell_type": "code",
      "metadata": {
        "id": "zjnCHiEMqN3W",
        "outputId": "c324af0d-79d6-4cb5-f647-c7b043dcaecb",
        "colab": {
          "base_uri": "https://localhost:8080/"
        }
      },
      "source": [
        "from google.colab import drive\n",
        "drive.mount('/content/gdrive') # 點擊網址，選擇 Google 帳號登入，然後將授權碼貼回輸入框中"
      ],
      "execution_count": 1,
      "outputs": [
        {
          "output_type": "stream",
          "text": [
            "Mounted at /content/gdrive\n"
          ],
          "name": "stdout"
        }
      ]
    },
    {
      "cell_type": "code",
      "metadata": {
        "id": "CBe7hvNtqTAZ",
        "outputId": "c4778bac-6159-4dd6-a950-6b858e77d21f",
        "colab": {
          "base_uri": "https://localhost:8080/"
        }
      },
      "source": [
        "!ln -fs /content/gdrive/My\\ Drive/Colab\\ Notebooks/BCH/ /app\n",
        "%cd /app"
      ],
      "execution_count": 2,
      "outputs": [
        {
          "output_type": "stream",
          "text": [
            "/content/gdrive/My Drive/Colab Notebooks/BCH\n"
          ],
          "name": "stdout"
        }
      ]
    },
    {
      "cell_type": "code",
      "metadata": {
        "id": "trKq0dZxqhJQ",
        "outputId": "baedc838-3cef-4722-ccbe-5ad8f85db2b2",
        "colab": {
          "base_uri": "https://localhost:8080/"
        }
      },
      "source": [
        "!ls # 確定目錄有訓練資料"
      ],
      "execution_count": 3,
      "outputs": [
        {
          "output_type": "stream",
          "text": [
            "BCH  BCH-logs  BCH_Train.ipynb\tdata  Final-model.h5\n"
          ],
          "name": "stdout"
        }
      ]
    },
    {
      "cell_type": "code",
      "metadata": {
        "id": "JPLhuHPJqlVg"
      },
      "source": [
        "import os\n",
        "import numpy as np\n",
        "import pandas as pd\n",
        "import tensorflow as tf\n",
        "import matplotlib.pyplot as plt\n",
        "\n",
        "from tensorflow import keras\n",
        "from tensorflow.keras import layers"
      ],
      "execution_count": 4,
      "outputs": []
    },
    {
      "cell_type": "code",
      "metadata": {
        "id": "amzg-Mm5q3Tn",
        "outputId": "4ad2d934-8d48-4b69-e62c-8fdb6b236022",
        "colab": {
          "base_uri": "https://localhost:8080/",
          "height": 224
        }
      },
      "source": [
        "data = pd.read_table(\"data/Training_one_to_50000.txt\",sep=',',header=None)\n",
        "print(data.shape)\n",
        "data.head()"
      ],
      "execution_count": 5,
      "outputs": [
        {
          "output_type": "execute_result",
          "data": {
            "text/html": [
              "<div>\n",
              "<style scoped>\n",
              "    .dataframe tbody tr th:only-of-type {\n",
              "        vertical-align: middle;\n",
              "    }\n",
              "\n",
              "    .dataframe tbody tr th {\n",
              "        vertical-align: top;\n",
              "    }\n",
              "\n",
              "    .dataframe thead th {\n",
              "        text-align: right;\n",
              "    }\n",
              "</style>\n",
              "<table border=\"1\" class=\"dataframe\">\n",
              "  <thead>\n",
              "    <tr style=\"text-align: right;\">\n",
              "      <th></th>\n",
              "      <th>0</th>\n",
              "      <th>1</th>\n",
              "      <th>2</th>\n",
              "      <th>3</th>\n",
              "      <th>4</th>\n",
              "      <th>5</th>\n",
              "      <th>6</th>\n",
              "      <th>7</th>\n",
              "      <th>8</th>\n",
              "      <th>9</th>\n",
              "      <th>10</th>\n",
              "      <th>11</th>\n",
              "      <th>12</th>\n",
              "      <th>13</th>\n",
              "      <th>14</th>\n",
              "      <th>15</th>\n",
              "      <th>16</th>\n",
              "      <th>17</th>\n",
              "      <th>18</th>\n",
              "      <th>19</th>\n",
              "      <th>20</th>\n",
              "      <th>21</th>\n",
              "      <th>22</th>\n",
              "      <th>23</th>\n",
              "      <th>24</th>\n",
              "      <th>25</th>\n",
              "      <th>26</th>\n",
              "      <th>27</th>\n",
              "      <th>28</th>\n",
              "      <th>29</th>\n",
              "      <th>30</th>\n",
              "      <th>31</th>\n",
              "      <th>32</th>\n",
              "      <th>33</th>\n",
              "      <th>34</th>\n",
              "      <th>35</th>\n",
              "      <th>36</th>\n",
              "      <th>37</th>\n",
              "      <th>38</th>\n",
              "      <th>39</th>\n",
              "      <th>40</th>\n",
              "      <th>41</th>\n",
              "      <th>42</th>\n",
              "      <th>43</th>\n",
              "      <th>44</th>\n",
              "      <th>45</th>\n",
              "      <th>46</th>\n",
              "      <th>47</th>\n",
              "      <th>48</th>\n",
              "      <th>49</th>\n",
              "      <th>50</th>\n",
              "      <th>51</th>\n",
              "      <th>52</th>\n",
              "      <th>53</th>\n",
              "      <th>54</th>\n",
              "      <th>55</th>\n",
              "      <th>56</th>\n",
              "      <th>57</th>\n",
              "      <th>58</th>\n",
              "      <th>59</th>\n",
              "      <th>60</th>\n",
              "      <th>61</th>\n",
              "      <th>62</th>\n",
              "      <th>63</th>\n",
              "      <th>64</th>\n",
              "      <th>65</th>\n",
              "      <th>66</th>\n",
              "      <th>67</th>\n",
              "      <th>68</th>\n",
              "      <th>69</th>\n",
              "      <th>70</th>\n",
              "      <th>71</th>\n",
              "      <th>72</th>\n",
              "      <th>73</th>\n",
              "      <th>74</th>\n",
              "    </tr>\n",
              "  </thead>\n",
              "  <tbody>\n",
              "    <tr>\n",
              "      <th>0</th>\n",
              "      <td>2.236141</td>\n",
              "      <td>0.677073</td>\n",
              "      <td>1.892023</td>\n",
              "      <td>2.212047</td>\n",
              "      <td>2.173484</td>\n",
              "      <td>1.145537</td>\n",
              "      <td>3.523746</td>\n",
              "      <td>2.517586</td>\n",
              "      <td>2.123555</td>\n",
              "      <td>1.511641</td>\n",
              "      <td>2.443360</td>\n",
              "      <td>1.280934</td>\n",
              "      <td>1.639918</td>\n",
              "      <td>1.571246</td>\n",
              "      <td>2.168223</td>\n",
              "      <td>3.055222</td>\n",
              "      <td>2.858906</td>\n",
              "      <td>1.848279</td>\n",
              "      <td>-0.056266</td>\n",
              "      <td>-0.440638</td>\n",
              "      <td>1.638710</td>\n",
              "      <td>2.177900</td>\n",
              "      <td>0.426165</td>\n",
              "      <td>0.852318</td>\n",
              "      <td>2.724315</td>\n",
              "      <td>1.666961</td>\n",
              "      <td>2.745019</td>\n",
              "      <td>0.765452</td>\n",
              "      <td>2.936489</td>\n",
              "      <td>0.779298</td>\n",
              "      <td>1.724062</td>\n",
              "      <td>1.269134</td>\n",
              "      <td>1.605662</td>\n",
              "      <td>1.480742</td>\n",
              "      <td>3.165734</td>\n",
              "      <td>2.309806</td>\n",
              "      <td>1.889172</td>\n",
              "      <td>2.835951</td>\n",
              "      <td>2.273387</td>\n",
              "      <td>2.089910</td>\n",
              "      <td>3.116071</td>\n",
              "      <td>2.009234</td>\n",
              "      <td>1.173367</td>\n",
              "      <td>2.010268</td>\n",
              "      <td>1.634979</td>\n",
              "      <td>0.995538</td>\n",
              "      <td>2.377730</td>\n",
              "      <td>2.250864</td>\n",
              "      <td>1.967536</td>\n",
              "      <td>1.712788</td>\n",
              "      <td>1.519920</td>\n",
              "      <td>1.133258</td>\n",
              "      <td>1.488989</td>\n",
              "      <td>2.608448</td>\n",
              "      <td>2.005391</td>\n",
              "      <td>1.666223</td>\n",
              "      <td>2.066812</td>\n",
              "      <td>2.085648</td>\n",
              "      <td>1.620848</td>\n",
              "      <td>1.636660</td>\n",
              "      <td>1.624159</td>\n",
              "      <td>2.126042</td>\n",
              "      <td>2.140122</td>\n",
              "      <td>1</td>\n",
              "      <td>1</td>\n",
              "      <td>0</td>\n",
              "      <td>0</td>\n",
              "      <td>0</td>\n",
              "      <td>0</td>\n",
              "      <td>0</td>\n",
              "      <td>0</td>\n",
              "      <td>0</td>\n",
              "      <td>0</td>\n",
              "      <td>1</td>\n",
              "      <td>0</td>\n",
              "    </tr>\n",
              "    <tr>\n",
              "      <th>1</th>\n",
              "      <td>2.727983</td>\n",
              "      <td>1.644212</td>\n",
              "      <td>1.913891</td>\n",
              "      <td>1.740416</td>\n",
              "      <td>2.590680</td>\n",
              "      <td>2.130859</td>\n",
              "      <td>1.463073</td>\n",
              "      <td>3.171628</td>\n",
              "      <td>1.554147</td>\n",
              "      <td>1.765463</td>\n",
              "      <td>3.308099</td>\n",
              "      <td>-0.128945</td>\n",
              "      <td>2.482774</td>\n",
              "      <td>2.682708</td>\n",
              "      <td>0.783746</td>\n",
              "      <td>2.413238</td>\n",
              "      <td>3.105122</td>\n",
              "      <td>1.829407</td>\n",
              "      <td>1.508706</td>\n",
              "      <td>2.058221</td>\n",
              "      <td>1.893133</td>\n",
              "      <td>-0.088736</td>\n",
              "      <td>2.915489</td>\n",
              "      <td>1.788166</td>\n",
              "      <td>2.874507</td>\n",
              "      <td>3.159333</td>\n",
              "      <td>2.360416</td>\n",
              "      <td>0.990134</td>\n",
              "      <td>2.585187</td>\n",
              "      <td>1.599238</td>\n",
              "      <td>3.239353</td>\n",
              "      <td>1.375496</td>\n",
              "      <td>2.595444</td>\n",
              "      <td>1.290678</td>\n",
              "      <td>2.663287</td>\n",
              "      <td>2.321628</td>\n",
              "      <td>2.165921</td>\n",
              "      <td>0.774298</td>\n",
              "      <td>2.527509</td>\n",
              "      <td>2.741402</td>\n",
              "      <td>3.111066</td>\n",
              "      <td>0.567970</td>\n",
              "      <td>2.024100</td>\n",
              "      <td>1.341587</td>\n",
              "      <td>2.143214</td>\n",
              "      <td>2.554589</td>\n",
              "      <td>2.568119</td>\n",
              "      <td>1.967599</td>\n",
              "      <td>2.571509</td>\n",
              "      <td>1.480752</td>\n",
              "      <td>0.948844</td>\n",
              "      <td>2.460963</td>\n",
              "      <td>2.084946</td>\n",
              "      <td>2.790889</td>\n",
              "      <td>2.769237</td>\n",
              "      <td>1.664406</td>\n",
              "      <td>2.525760</td>\n",
              "      <td>1.720412</td>\n",
              "      <td>1.930328</td>\n",
              "      <td>2.572311</td>\n",
              "      <td>1.864973</td>\n",
              "      <td>2.947295</td>\n",
              "      <td>0.943815</td>\n",
              "      <td>1</td>\n",
              "      <td>1</td>\n",
              "      <td>1</td>\n",
              "      <td>0</td>\n",
              "      <td>1</td>\n",
              "      <td>0</td>\n",
              "      <td>0</td>\n",
              "      <td>1</td>\n",
              "      <td>0</td>\n",
              "      <td>1</td>\n",
              "      <td>0</td>\n",
              "      <td>1</td>\n",
              "    </tr>\n",
              "    <tr>\n",
              "      <th>2</th>\n",
              "      <td>2.409236</td>\n",
              "      <td>2.801631</td>\n",
              "      <td>2.057426</td>\n",
              "      <td>2.184759</td>\n",
              "      <td>2.683636</td>\n",
              "      <td>2.044105</td>\n",
              "      <td>3.262723</td>\n",
              "      <td>2.201662</td>\n",
              "      <td>2.966743</td>\n",
              "      <td>1.885213</td>\n",
              "      <td>1.384028</td>\n",
              "      <td>1.798459</td>\n",
              "      <td>2.700016</td>\n",
              "      <td>2.527087</td>\n",
              "      <td>1.012110</td>\n",
              "      <td>1.636910</td>\n",
              "      <td>-0.085207</td>\n",
              "      <td>2.001155</td>\n",
              "      <td>0.265641</td>\n",
              "      <td>2.520929</td>\n",
              "      <td>3.246987</td>\n",
              "      <td>1.737294</td>\n",
              "      <td>2.292819</td>\n",
              "      <td>2.152791</td>\n",
              "      <td>1.320763</td>\n",
              "      <td>2.282828</td>\n",
              "      <td>1.745907</td>\n",
              "      <td>1.819716</td>\n",
              "      <td>1.351256</td>\n",
              "      <td>0.271046</td>\n",
              "      <td>1.922349</td>\n",
              "      <td>1.858660</td>\n",
              "      <td>3.169719</td>\n",
              "      <td>1.412864</td>\n",
              "      <td>2.096138</td>\n",
              "      <td>1.306781</td>\n",
              "      <td>2.157087</td>\n",
              "      <td>0.627521</td>\n",
              "      <td>2.609654</td>\n",
              "      <td>-0.148885</td>\n",
              "      <td>2.650107</td>\n",
              "      <td>1.342723</td>\n",
              "      <td>2.390383</td>\n",
              "      <td>0.391234</td>\n",
              "      <td>2.884956</td>\n",
              "      <td>2.369618</td>\n",
              "      <td>1.205141</td>\n",
              "      <td>1.060666</td>\n",
              "      <td>1.686892</td>\n",
              "      <td>1.644956</td>\n",
              "      <td>1.784950</td>\n",
              "      <td>1.952461</td>\n",
              "      <td>1.551610</td>\n",
              "      <td>2.059282</td>\n",
              "      <td>3.028333</td>\n",
              "      <td>1.763497</td>\n",
              "      <td>1.428262</td>\n",
              "      <td>2.177795</td>\n",
              "      <td>1.389263</td>\n",
              "      <td>2.223563</td>\n",
              "      <td>1.935963</td>\n",
              "      <td>2.410880</td>\n",
              "      <td>2.380804</td>\n",
              "      <td>0</td>\n",
              "      <td>0</td>\n",
              "      <td>0</td>\n",
              "      <td>0</td>\n",
              "      <td>1</td>\n",
              "      <td>0</td>\n",
              "      <td>1</td>\n",
              "      <td>0</td>\n",
              "      <td>0</td>\n",
              "      <td>0</td>\n",
              "      <td>1</td>\n",
              "      <td>1</td>\n",
              "    </tr>\n",
              "    <tr>\n",
              "      <th>3</th>\n",
              "      <td>1.791774</td>\n",
              "      <td>1.749787</td>\n",
              "      <td>2.585813</td>\n",
              "      <td>-0.052639</td>\n",
              "      <td>2.278452</td>\n",
              "      <td>1.721495</td>\n",
              "      <td>3.100605</td>\n",
              "      <td>1.653310</td>\n",
              "      <td>2.665723</td>\n",
              "      <td>1.504311</td>\n",
              "      <td>2.248770</td>\n",
              "      <td>1.617168</td>\n",
              "      <td>2.129057</td>\n",
              "      <td>1.939706</td>\n",
              "      <td>0.518681</td>\n",
              "      <td>2.314840</td>\n",
              "      <td>2.484518</td>\n",
              "      <td>2.018851</td>\n",
              "      <td>2.611584</td>\n",
              "      <td>2.651704</td>\n",
              "      <td>1.723077</td>\n",
              "      <td>1.416195</td>\n",
              "      <td>3.063576</td>\n",
              "      <td>1.090530</td>\n",
              "      <td>-0.075914</td>\n",
              "      <td>1.531824</td>\n",
              "      <td>1.977879</td>\n",
              "      <td>0.949675</td>\n",
              "      <td>1.883779</td>\n",
              "      <td>2.723218</td>\n",
              "      <td>1.686042</td>\n",
              "      <td>3.310738</td>\n",
              "      <td>0.620059</td>\n",
              "      <td>2.416226</td>\n",
              "      <td>1.866075</td>\n",
              "      <td>1.436908</td>\n",
              "      <td>2.558286</td>\n",
              "      <td>3.027732</td>\n",
              "      <td>1.886604</td>\n",
              "      <td>1.997599</td>\n",
              "      <td>1.863093</td>\n",
              "      <td>2.328500</td>\n",
              "      <td>1.921703</td>\n",
              "      <td>3.043631</td>\n",
              "      <td>1.207121</td>\n",
              "      <td>0.584575</td>\n",
              "      <td>1.406254</td>\n",
              "      <td>1.031934</td>\n",
              "      <td>2.923467</td>\n",
              "      <td>2.832817</td>\n",
              "      <td>2.143251</td>\n",
              "      <td>1.848396</td>\n",
              "      <td>1.484815</td>\n",
              "      <td>1.875354</td>\n",
              "      <td>1.462112</td>\n",
              "      <td>1.556504</td>\n",
              "      <td>1.254478</td>\n",
              "      <td>1.782119</td>\n",
              "      <td>1.982193</td>\n",
              "      <td>1.348513</td>\n",
              "      <td>1.119968</td>\n",
              "      <td>2.453549</td>\n",
              "      <td>2.240326</td>\n",
              "      <td>1</td>\n",
              "      <td>0</td>\n",
              "      <td>1</td>\n",
              "      <td>1</td>\n",
              "      <td>1</td>\n",
              "      <td>1</td>\n",
              "      <td>1</td>\n",
              "      <td>0</td>\n",
              "      <td>1</td>\n",
              "      <td>0</td>\n",
              "      <td>1</td>\n",
              "      <td>1</td>\n",
              "    </tr>\n",
              "    <tr>\n",
              "      <th>4</th>\n",
              "      <td>2.095124</td>\n",
              "      <td>3.361770</td>\n",
              "      <td>2.132792</td>\n",
              "      <td>1.169481</td>\n",
              "      <td>1.952437</td>\n",
              "      <td>0.556734</td>\n",
              "      <td>1.848000</td>\n",
              "      <td>1.626273</td>\n",
              "      <td>2.178786</td>\n",
              "      <td>1.511129</td>\n",
              "      <td>2.086397</td>\n",
              "      <td>2.446340</td>\n",
              "      <td>1.861750</td>\n",
              "      <td>2.703345</td>\n",
              "      <td>1.659661</td>\n",
              "      <td>2.954063</td>\n",
              "      <td>-0.102205</td>\n",
              "      <td>1.259738</td>\n",
              "      <td>2.672633</td>\n",
              "      <td>1.937796</td>\n",
              "      <td>0.802973</td>\n",
              "      <td>2.304852</td>\n",
              "      <td>1.413590</td>\n",
              "      <td>1.907725</td>\n",
              "      <td>2.166176</td>\n",
              "      <td>1.890664</td>\n",
              "      <td>2.354610</td>\n",
              "      <td>2.771563</td>\n",
              "      <td>0.916120</td>\n",
              "      <td>1.983763</td>\n",
              "      <td>3.013018</td>\n",
              "      <td>1.881236</td>\n",
              "      <td>2.094054</td>\n",
              "      <td>2.356157</td>\n",
              "      <td>2.179067</td>\n",
              "      <td>1.203113</td>\n",
              "      <td>1.578862</td>\n",
              "      <td>2.143517</td>\n",
              "      <td>2.568300</td>\n",
              "      <td>2.227940</td>\n",
              "      <td>2.484866</td>\n",
              "      <td>3.010383</td>\n",
              "      <td>2.059089</td>\n",
              "      <td>1.269418</td>\n",
              "      <td>-0.054059</td>\n",
              "      <td>3.218174</td>\n",
              "      <td>2.843649</td>\n",
              "      <td>2.604559</td>\n",
              "      <td>2.270705</td>\n",
              "      <td>2.084287</td>\n",
              "      <td>2.809908</td>\n",
              "      <td>1.359759</td>\n",
              "      <td>2.615906</td>\n",
              "      <td>1.958774</td>\n",
              "      <td>2.398217</td>\n",
              "      <td>2.675873</td>\n",
              "      <td>1.288248</td>\n",
              "      <td>2.549243</td>\n",
              "      <td>2.750913</td>\n",
              "      <td>2.418800</td>\n",
              "      <td>1.231101</td>\n",
              "      <td>3.027114</td>\n",
              "      <td>1.427469</td>\n",
              "      <td>0</td>\n",
              "      <td>0</td>\n",
              "      <td>0</td>\n",
              "      <td>0</td>\n",
              "      <td>1</td>\n",
              "      <td>0</td>\n",
              "      <td>1</td>\n",
              "      <td>1</td>\n",
              "      <td>1</td>\n",
              "      <td>0</td>\n",
              "      <td>0</td>\n",
              "      <td>0</td>\n",
              "    </tr>\n",
              "  </tbody>\n",
              "</table>\n",
              "</div>"
            ],
            "text/plain": [
              "         0         1         2         3         4   ...  70  71  72  73  74\n",
              "0  2.236141  0.677073  1.892023  2.212047  2.173484  ...   0   0   0   1   0\n",
              "1  2.727983  1.644212  1.913891  1.740416  2.590680  ...   1   0   1   0   1\n",
              "2  2.409236  2.801631  2.057426  2.184759  2.683636  ...   0   0   0   1   1\n",
              "3  1.791774  1.749787  2.585813 -0.052639  2.278452  ...   0   1   0   1   1\n",
              "4  2.095124  3.361770  2.132792  1.169481  1.952437  ...   1   1   0   0   0\n",
              "\n",
              "[5 rows x 75 columns]"
            ]
          },
          "metadata": {
            "tags": []
          },
          "execution_count": 5
        }
      ]
    },
    {
      "cell_type": "code",
      "metadata": {
        "id": "nElJm6SXq8hm",
        "outputId": "21f516ca-e588-4edd-cd47-176c463b4813",
        "colab": {
          "base_uri": "https://localhost:8080/"
        }
      },
      "source": [
        "b = np.array(data)\n",
        "data_syndrom = b[:,63:len(b[0])]\n",
        "print(data_syndrom.shape)\n",
        "print(data_syndrom[:5])"
      ],
      "execution_count": 7,
      "outputs": [
        {
          "output_type": "stream",
          "text": [
            "(50000, 12)\n",
            "[[1. 1. 0. 0. 0. 0. 0. 0. 0. 0. 1. 0.]\n",
            " [1. 1. 1. 0. 1. 0. 0. 1. 0. 1. 0. 1.]\n",
            " [0. 0. 0. 0. 1. 0. 1. 0. 0. 0. 1. 1.]\n",
            " [1. 0. 1. 1. 1. 1. 1. 0. 1. 0. 1. 1.]\n",
            " [0. 0. 0. 0. 1. 0. 1. 1. 1. 0. 0. 0.]]\n"
          ],
          "name": "stdout"
        }
      ]
    },
    {
      "cell_type": "markdown",
      "metadata": {
        "id": "s_Xy20_V6WLA"
      },
      "source": [
        "# Data 最大值 最小值"
      ]
    },
    {
      "cell_type": "code",
      "metadata": {
        "id": "GaFvLCb83HIr",
        "outputId": "2bec2b8c-36e1-4d17-e58b-5e5304a00c55",
        "colab": {
          "base_uri": "https://localhost:8080/"
        }
      },
      "source": [
        "print(b.max())\n",
        "print(b.min())"
      ],
      "execution_count": 20,
      "outputs": [
        {
          "output_type": "stream",
          "text": [
            "5.4348508251866985\n",
            "-1.7403611927561329\n"
          ],
          "name": "stdout"
        }
      ]
    },
    {
      "cell_type": "code",
      "metadata": {
        "id": "NV0JTCtTrtQw",
        "outputId": "05c4bcff-95e2-43d1-a6b3-14cca62d07e8",
        "colab": {
          "base_uri": "https://localhost:8080/"
        }
      },
      "source": [
        "pd.DataFrame(data_syndrom).dtypes"
      ],
      "execution_count": 10,
      "outputs": [
        {
          "output_type": "execute_result",
          "data": {
            "text/plain": [
              "0     float64\n",
              "1     float64\n",
              "2     float64\n",
              "3     float64\n",
              "4     float64\n",
              "5     float64\n",
              "6     float64\n",
              "7     float64\n",
              "8     float64\n",
              "9     float64\n",
              "10    float64\n",
              "11    float64\n",
              "dtype: object"
            ]
          },
          "metadata": {
            "tags": []
          },
          "execution_count": 10
        }
      ]
    },
    {
      "cell_type": "code",
      "metadata": {
        "id": "rb-XYVAEyzMN"
      },
      "source": [
        "dat = np.array(data)\n"
      ],
      "execution_count": null,
      "outputs": []
    },
    {
      "cell_type": "code",
      "metadata": {
        "id": "RMch_kdxr_ge",
        "outputId": "18ad3c7c-7400-4d80-cedc-77b49d7d3a8c",
        "colab": {
          "base_uri": "https://localhost:8080/"
        }
      },
      "source": [
        "datasets = pd.read_table(\"data/Validation_one_to_50000.txt\",sep=',',header=None)\n",
        "print(datasets.shape)\n",
        "print(datasets.head())"
      ],
      "execution_count": 12,
      "outputs": [
        {
          "output_type": "stream",
          "text": [
            "(50000, 63)\n",
            "   0   1   2   3   4   5   6   7   8   ...  54  55  56  57  58  59  60  61  62\n",
            "0   0   0   0   0   0   0   0   0   0  ...   0   0   0   0   0   0   0   0   0\n",
            "1   0   0   0   0   0   0   0   0   0  ...   0   0   0   0   0   0   0   0   0\n",
            "2   0   0   0   0   0   0   0   0   0  ...   0   0   0   0   0   0   0   0   0\n",
            "3   0   0   0   1   0   0   0   0   0  ...   0   0   0   0   0   0   0   0   0\n",
            "4   0   0   0   0   0   0   0   0   0  ...   0   0   0   0   0   0   0   0   0\n",
            "\n",
            "[5 rows x 63 columns]\n"
          ],
          "name": "stdout"
        }
      ]
    },
    {
      "cell_type": "code",
      "metadata": {
        "id": "Rqctoy_lsh71"
      },
      "source": [
        "data_num = datasets.shape[0]\n",
        "# 取得一筆與data數量相同的亂數索引，主要目的是用於打散資料\n",
        "indexes = np.random.permutation(data_num)\n",
        "# 並將亂數索引值分為Train、val和test分為，這裡的劃分比例為6:2:2\n",
        "train_indexes = indexes[:int(data_num *0.6)]\n",
        "val_indexes = indexes[int(data_num *0.6):int(data_num *0.8)]\n",
        "test_indexes = indexes[int(data_num *0.8):]\n",
        "# 透過索引值從data取出訓練資料、驗證資料和測試資料\n",
        "x_train = datasets.loc[train_indexes]\n",
        "x_val = datasets.loc[val_indexes]\n",
        "x_test = datasets.loc[test_indexes]"
      ],
      "execution_count": 14,
      "outputs": []
    },
    {
      "cell_type": "code",
      "metadata": {
        "id": "OYuMHFQctyxE",
        "outputId": "5e077cba-6564-490a-9ed9-47da70ac5660",
        "colab": {
          "base_uri": "https://localhost:8080/"
        }
      },
      "source": [
        "print(x_train.shape)\n",
        "print(x_val.shape)\n",
        "print(x_test.shape)"
      ],
      "execution_count": 15,
      "outputs": [
        {
          "output_type": "stream",
          "text": [
            "(30000, 63)\n",
            "(10000, 63)\n",
            "(10000, 63)\n"
          ],
          "name": "stdout"
        }
      ]
    },
    {
      "cell_type": "code",
      "metadata": {
        "id": "63Z-yrCNuGhf"
      },
      "source": [
        "syndrom = pd.DataFrame(data_syndrom)\n",
        "x_train1 = syndrom.loc[train_indexes]\n",
        "x_val1 = syndrom.loc[val_indexes]\n",
        "x_test1 = syndrom.loc[test_indexes]"
      ],
      "execution_count": 17,
      "outputs": []
    },
    {
      "cell_type": "code",
      "metadata": {
        "id": "py_3b2anufWv",
        "outputId": "79d57734-fe73-45de-d596-13a7c718722e",
        "colab": {
          "base_uri": "https://localhost:8080/"
        }
      },
      "source": [
        "print(x_train1.shape)\n",
        "print(x_val1.shape)\n",
        "print(x_test1.shape)"
      ],
      "execution_count": 18,
      "outputs": [
        {
          "output_type": "stream",
          "text": [
            "(30000, 12)\n",
            "(10000, 12)\n",
            "(10000, 12)\n"
          ],
          "name": "stdout"
        }
      ]
    },
    {
      "cell_type": "code",
      "metadata": {
        "id": "HfB_zSCLuxGe"
      },
      "source": [
        ""
      ],
      "execution_count": null,
      "outputs": []
    }
  ]
}