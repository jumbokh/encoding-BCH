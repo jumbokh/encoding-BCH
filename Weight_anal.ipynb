{
  "nbformat": 4,
  "nbformat_minor": 0,
  "metadata": {
    "colab": {
      "name": "Weight-anal.ipynb",
      "provenance": [],
      "authorship_tag": "ABX9TyNzA4xOR+gjlHAQTIPbsaW2",
      "include_colab_link": true
    },
    "kernelspec": {
      "name": "python3",
      "display_name": "Python 3"
    }
  },
  "cells": [
    {
      "cell_type": "markdown",
      "metadata": {
        "id": "view-in-github",
        "colab_type": "text"
      },
      "source": [
        "<a href=\"https://colab.research.google.com/github/jumbokh/encoding-BCH/blob/main/Weight_anal.ipynb\" target=\"_parent\"><img src=\"https://colab.research.google.com/assets/colab-badge.svg\" alt=\"Open In Colab\"/></a>"
      ]
    },
    {
      "cell_type": "code",
      "metadata": {
        "colab": {
          "base_uri": "https://localhost:8080/"
        },
        "id": "fjuMsK_WFO_1",
        "outputId": "56d7079f-2eea-457a-94ba-25bc934ec1ec"
      },
      "source": [
        "from google.colab import drive\n",
        "drive.mount('/content/gdrive') # 點擊網址，選擇 Google 帳號登入，然後將授權碼貼回輸入框中"
      ],
      "execution_count": null,
      "outputs": [
        {
          "output_type": "stream",
          "text": [
            "Mounted at /content/gdrive\n"
          ],
          "name": "stdout"
        }
      ]
    },
    {
      "cell_type": "code",
      "metadata": {
        "colab": {
          "base_uri": "https://localhost:8080/"
        },
        "id": "aQ8lVgjlFdDn",
        "outputId": "d595746a-5e8e-49df-c1a9-b705945bee52"
      },
      "source": [
        "!ln -fs /content/gdrive/My\\ Drive/Colab\\ Notebooks/BCH/ /app\n",
        "%cd /app"
      ],
      "execution_count": null,
      "outputs": [
        {
          "output_type": "stream",
          "text": [
            "/content/gdrive/My Drive/Colab Notebooks/BCH\n"
          ],
          "name": "stdout"
        }
      ]
    },
    {
      "cell_type": "code",
      "metadata": {
        "colab": {
          "base_uri": "https://localhost:8080/"
        },
        "id": "qhKKhL0yFqfs",
        "outputId": "fccf969c-7f69-4a15-eff2-c175817b3e04"
      },
      "source": [
        "!ls # 確定目錄有訓練資料"
      ],
      "execution_count": null,
      "outputs": [
        {
          "output_type": "stream",
          "text": [
            "BCH\t  BCH_R_S_Input_Model.png  extract_parameters.py\n",
            "BCH.csv   BCH_Train.ipynb\t   Final-model.h5\n",
            "BCH-logs  data\t\t\t   test.h5\n"
          ],
          "name": "stdout"
        }
      ]
    },
    {
      "cell_type": "code",
      "metadata": {
        "id": "p7XIi4qmFvDE"
      },
      "source": [
        "import os\n",
        "import numpy as np\n",
        "import pandas as pd\n",
        "import tensorflow as tf\n",
        "import matplotlib.pyplot as plt\n",
        "\n",
        "from tensorflow import keras\n",
        "from tensorflow.keras import layers\n",
        "from tensorflow.keras.utils import plot_model\n",
        "from tensorflow.keras.layers import LeakyReLU\n",
        "from IPython.display import Image"
      ],
      "execution_count": null,
      "outputs": []
    },
    {
      "cell_type": "code",
      "metadata": {
        "id": "xP7eBJk-F1WE"
      },
      "source": [
        "df = pd.read_csv('BCH.csv',header=None)  "
      ],
      "execution_count": null,
      "outputs": []
    },
    {
      "cell_type": "code",
      "metadata": {
        "colab": {
          "base_uri": "https://localhost:8080/"
        },
        "id": "f4d_myqpGFq7",
        "outputId": "22ecf29e-ee61-4cb5-cb6a-8e135c5530d9"
      },
      "source": [
        "df.shape"
      ],
      "execution_count": null,
      "outputs": [
        {
          "output_type": "execute_result",
          "data": {
            "text/plain": [
              "(12, 90301)"
            ]
          },
          "metadata": {
            "tags": []
          },
          "execution_count": 12
        }
      ]
    },
    {
      "cell_type": "code",
      "metadata": {
        "colab": {
          "base_uri": "https://localhost:8080/",
          "height": 253
        },
        "id": "gby7OrJLGJAE",
        "outputId": "ba9d69da-ebe2-4bea-b9d7-b813c00e7e72"
      },
      "source": [
        "df.head()"
      ],
      "execution_count": null,
      "outputs": [
        {
          "output_type": "execute_result",
          "data": {
            "text/html": [
              "<div>\n",
              "<style scoped>\n",
              "    .dataframe tbody tr th:only-of-type {\n",
              "        vertical-align: middle;\n",
              "    }\n",
              "\n",
              "    .dataframe tbody tr th {\n",
              "        vertical-align: top;\n",
              "    }\n",
              "\n",
              "    .dataframe thead th {\n",
              "        text-align: right;\n",
              "    }\n",
              "</style>\n",
              "<table border=\"1\" class=\"dataframe\">\n",
              "  <thead>\n",
              "    <tr style=\"text-align: right;\">\n",
              "      <th></th>\n",
              "      <th>0</th>\n",
              "      <th>1</th>\n",
              "      <th>2</th>\n",
              "      <th>3</th>\n",
              "      <th>4</th>\n",
              "      <th>5</th>\n",
              "      <th>6</th>\n",
              "      <th>7</th>\n",
              "      <th>8</th>\n",
              "      <th>9</th>\n",
              "      <th>10</th>\n",
              "      <th>11</th>\n",
              "      <th>12</th>\n",
              "      <th>13</th>\n",
              "      <th>14</th>\n",
              "      <th>15</th>\n",
              "      <th>16</th>\n",
              "      <th>17</th>\n",
              "      <th>18</th>\n",
              "      <th>19</th>\n",
              "      <th>20</th>\n",
              "      <th>21</th>\n",
              "      <th>22</th>\n",
              "      <th>23</th>\n",
              "      <th>24</th>\n",
              "      <th>25</th>\n",
              "      <th>26</th>\n",
              "      <th>27</th>\n",
              "      <th>28</th>\n",
              "      <th>29</th>\n",
              "      <th>30</th>\n",
              "      <th>31</th>\n",
              "      <th>32</th>\n",
              "      <th>33</th>\n",
              "      <th>34</th>\n",
              "      <th>35</th>\n",
              "      <th>36</th>\n",
              "      <th>37</th>\n",
              "      <th>38</th>\n",
              "      <th>39</th>\n",
              "      <th>...</th>\n",
              "      <th>90261</th>\n",
              "      <th>90262</th>\n",
              "      <th>90263</th>\n",
              "      <th>90264</th>\n",
              "      <th>90265</th>\n",
              "      <th>90266</th>\n",
              "      <th>90267</th>\n",
              "      <th>90268</th>\n",
              "      <th>90269</th>\n",
              "      <th>90270</th>\n",
              "      <th>90271</th>\n",
              "      <th>90272</th>\n",
              "      <th>90273</th>\n",
              "      <th>90274</th>\n",
              "      <th>90275</th>\n",
              "      <th>90276</th>\n",
              "      <th>90277</th>\n",
              "      <th>90278</th>\n",
              "      <th>90279</th>\n",
              "      <th>90280</th>\n",
              "      <th>90281</th>\n",
              "      <th>90282</th>\n",
              "      <th>90283</th>\n",
              "      <th>90284</th>\n",
              "      <th>90285</th>\n",
              "      <th>90286</th>\n",
              "      <th>90287</th>\n",
              "      <th>90288</th>\n",
              "      <th>90289</th>\n",
              "      <th>90290</th>\n",
              "      <th>90291</th>\n",
              "      <th>90292</th>\n",
              "      <th>90293</th>\n",
              "      <th>90294</th>\n",
              "      <th>90295</th>\n",
              "      <th>90296</th>\n",
              "      <th>90297</th>\n",
              "      <th>90298</th>\n",
              "      <th>90299</th>\n",
              "      <th>90300</th>\n",
              "    </tr>\n",
              "  </thead>\n",
              "  <tbody>\n",
              "    <tr>\n",
              "      <th>0</th>\n",
              "      <td>R_input</td>\n",
              "      <td>0.000328</td>\n",
              "      <td>-0.003806</td>\n",
              "      <td>-0.001014</td>\n",
              "      <td>-0.010203</td>\n",
              "      <td>-0.004874</td>\n",
              "      <td>-0.007771</td>\n",
              "      <td>0.001114</td>\n",
              "      <td>-0.009889</td>\n",
              "      <td>0.008415</td>\n",
              "      <td>0.003270</td>\n",
              "      <td>0.004198</td>\n",
              "      <td>-0.010752</td>\n",
              "      <td>0.002827</td>\n",
              "      <td>-0.005060</td>\n",
              "      <td>0.000000</td>\n",
              "      <td>-0.001464</td>\n",
              "      <td>0.001033</td>\n",
              "      <td>-0.006545</td>\n",
              "      <td>-0.003149</td>\n",
              "      <td>-0.005751</td>\n",
              "      <td>0.003260</td>\n",
              "      <td>0.000068</td>\n",
              "      <td>0.002424</td>\n",
              "      <td>0.000000</td>\n",
              "      <td>-0.002211</td>\n",
              "      <td>0.006718</td>\n",
              "      <td>0.001307</td>\n",
              "      <td>0.008733</td>\n",
              "      <td>-0.006439</td>\n",
              "      <td>-0.000542</td>\n",
              "      <td>0.005512</td>\n",
              "      <td>-0.001896</td>\n",
              "      <td>-0.009440</td>\n",
              "      <td>-0.006616</td>\n",
              "      <td>-0.005530</td>\n",
              "      <td>-0.000446</td>\n",
              "      <td>0.002253</td>\n",
              "      <td>-0.004148</td>\n",
              "      <td>0.002646</td>\n",
              "      <td>...</td>\n",
              "      <td>NaN</td>\n",
              "      <td>NaN</td>\n",
              "      <td>NaN</td>\n",
              "      <td>NaN</td>\n",
              "      <td>NaN</td>\n",
              "      <td>NaN</td>\n",
              "      <td>NaN</td>\n",
              "      <td>NaN</td>\n",
              "      <td>NaN</td>\n",
              "      <td>NaN</td>\n",
              "      <td>NaN</td>\n",
              "      <td>NaN</td>\n",
              "      <td>NaN</td>\n",
              "      <td>NaN</td>\n",
              "      <td>NaN</td>\n",
              "      <td>NaN</td>\n",
              "      <td>NaN</td>\n",
              "      <td>NaN</td>\n",
              "      <td>NaN</td>\n",
              "      <td>NaN</td>\n",
              "      <td>NaN</td>\n",
              "      <td>NaN</td>\n",
              "      <td>NaN</td>\n",
              "      <td>NaN</td>\n",
              "      <td>NaN</td>\n",
              "      <td>NaN</td>\n",
              "      <td>NaN</td>\n",
              "      <td>NaN</td>\n",
              "      <td>NaN</td>\n",
              "      <td>NaN</td>\n",
              "      <td>NaN</td>\n",
              "      <td>NaN</td>\n",
              "      <td>NaN</td>\n",
              "      <td>NaN</td>\n",
              "      <td>NaN</td>\n",
              "      <td>NaN</td>\n",
              "      <td>NaN</td>\n",
              "      <td>NaN</td>\n",
              "      <td>NaN</td>\n",
              "      <td>NaN</td>\n",
              "    </tr>\n",
              "    <tr>\n",
              "      <th>1</th>\n",
              "      <td>S_input</td>\n",
              "      <td>-0.006528</td>\n",
              "      <td>0.000905</td>\n",
              "      <td>-0.004293</td>\n",
              "      <td>-0.002615</td>\n",
              "      <td>-0.002500</td>\n",
              "      <td>0.003375</td>\n",
              "      <td>-0.007471</td>\n",
              "      <td>-0.008360</td>\n",
              "      <td>-0.005613</td>\n",
              "      <td>0.004100</td>\n",
              "      <td>0.000859</td>\n",
              "      <td>0.002089</td>\n",
              "      <td>0.111097</td>\n",
              "      <td>0.076769</td>\n",
              "      <td>0.416433</td>\n",
              "      <td>-0.339606</td>\n",
              "      <td>0.024524</td>\n",
              "      <td>0.244269</td>\n",
              "      <td>0.309833</td>\n",
              "      <td>0.400933</td>\n",
              "      <td>0.445972</td>\n",
              "      <td>-0.392925</td>\n",
              "      <td>-0.010943</td>\n",
              "      <td>0.400056</td>\n",
              "      <td>0.427349</td>\n",
              "      <td>0.327851</td>\n",
              "      <td>0.439005</td>\n",
              "      <td>-0.484956</td>\n",
              "      <td>-0.209785</td>\n",
              "      <td>0.189064</td>\n",
              "      <td>0.022828</td>\n",
              "      <td>0.309276</td>\n",
              "      <td>0.116226</td>\n",
              "      <td>0.202829</td>\n",
              "      <td>-0.234448</td>\n",
              "      <td>0.294982</td>\n",
              "      <td>-0.391743</td>\n",
              "      <td>-0.436249</td>\n",
              "      <td>-0.485750</td>\n",
              "      <td>...</td>\n",
              "      <td>NaN</td>\n",
              "      <td>NaN</td>\n",
              "      <td>NaN</td>\n",
              "      <td>NaN</td>\n",
              "      <td>NaN</td>\n",
              "      <td>NaN</td>\n",
              "      <td>NaN</td>\n",
              "      <td>NaN</td>\n",
              "      <td>NaN</td>\n",
              "      <td>NaN</td>\n",
              "      <td>NaN</td>\n",
              "      <td>NaN</td>\n",
              "      <td>NaN</td>\n",
              "      <td>NaN</td>\n",
              "      <td>NaN</td>\n",
              "      <td>NaN</td>\n",
              "      <td>NaN</td>\n",
              "      <td>NaN</td>\n",
              "      <td>NaN</td>\n",
              "      <td>NaN</td>\n",
              "      <td>NaN</td>\n",
              "      <td>NaN</td>\n",
              "      <td>NaN</td>\n",
              "      <td>NaN</td>\n",
              "      <td>NaN</td>\n",
              "      <td>NaN</td>\n",
              "      <td>NaN</td>\n",
              "      <td>NaN</td>\n",
              "      <td>NaN</td>\n",
              "      <td>NaN</td>\n",
              "      <td>NaN</td>\n",
              "      <td>NaN</td>\n",
              "      <td>NaN</td>\n",
              "      <td>NaN</td>\n",
              "      <td>NaN</td>\n",
              "      <td>NaN</td>\n",
              "      <td>NaN</td>\n",
              "      <td>NaN</td>\n",
              "      <td>NaN</td>\n",
              "      <td>NaN</td>\n",
              "    </tr>\n",
              "    <tr>\n",
              "      <th>2</th>\n",
              "      <td>concat</td>\n",
              "      <td>NaN</td>\n",
              "      <td>NaN</td>\n",
              "      <td>NaN</td>\n",
              "      <td>NaN</td>\n",
              "      <td>NaN</td>\n",
              "      <td>NaN</td>\n",
              "      <td>NaN</td>\n",
              "      <td>NaN</td>\n",
              "      <td>NaN</td>\n",
              "      <td>NaN</td>\n",
              "      <td>NaN</td>\n",
              "      <td>NaN</td>\n",
              "      <td>NaN</td>\n",
              "      <td>NaN</td>\n",
              "      <td>NaN</td>\n",
              "      <td>NaN</td>\n",
              "      <td>NaN</td>\n",
              "      <td>NaN</td>\n",
              "      <td>NaN</td>\n",
              "      <td>NaN</td>\n",
              "      <td>NaN</td>\n",
              "      <td>NaN</td>\n",
              "      <td>NaN</td>\n",
              "      <td>NaN</td>\n",
              "      <td>NaN</td>\n",
              "      <td>NaN</td>\n",
              "      <td>NaN</td>\n",
              "      <td>NaN</td>\n",
              "      <td>NaN</td>\n",
              "      <td>NaN</td>\n",
              "      <td>NaN</td>\n",
              "      <td>NaN</td>\n",
              "      <td>NaN</td>\n",
              "      <td>NaN</td>\n",
              "      <td>NaN</td>\n",
              "      <td>NaN</td>\n",
              "      <td>NaN</td>\n",
              "      <td>NaN</td>\n",
              "      <td>NaN</td>\n",
              "      <td>...</td>\n",
              "      <td>NaN</td>\n",
              "      <td>NaN</td>\n",
              "      <td>NaN</td>\n",
              "      <td>NaN</td>\n",
              "      <td>NaN</td>\n",
              "      <td>NaN</td>\n",
              "      <td>NaN</td>\n",
              "      <td>NaN</td>\n",
              "      <td>NaN</td>\n",
              "      <td>NaN</td>\n",
              "      <td>NaN</td>\n",
              "      <td>NaN</td>\n",
              "      <td>NaN</td>\n",
              "      <td>NaN</td>\n",
              "      <td>NaN</td>\n",
              "      <td>NaN</td>\n",
              "      <td>NaN</td>\n",
              "      <td>NaN</td>\n",
              "      <td>NaN</td>\n",
              "      <td>NaN</td>\n",
              "      <td>NaN</td>\n",
              "      <td>NaN</td>\n",
              "      <td>NaN</td>\n",
              "      <td>NaN</td>\n",
              "      <td>NaN</td>\n",
              "      <td>NaN</td>\n",
              "      <td>NaN</td>\n",
              "      <td>NaN</td>\n",
              "      <td>NaN</td>\n",
              "      <td>NaN</td>\n",
              "      <td>NaN</td>\n",
              "      <td>NaN</td>\n",
              "      <td>NaN</td>\n",
              "      <td>NaN</td>\n",
              "      <td>NaN</td>\n",
              "      <td>NaN</td>\n",
              "      <td>NaN</td>\n",
              "      <td>NaN</td>\n",
              "      <td>NaN</td>\n",
              "      <td>NaN</td>\n",
              "    </tr>\n",
              "    <tr>\n",
              "      <th>3</th>\n",
              "      <td>hidden1</td>\n",
              "      <td>0.000000</td>\n",
              "      <td>-0.005244</td>\n",
              "      <td>0.001668</td>\n",
              "      <td>-0.001295</td>\n",
              "      <td>-0.007586</td>\n",
              "      <td>-0.000674</td>\n",
              "      <td>0.000279</td>\n",
              "      <td>0.002813</td>\n",
              "      <td>-0.002587</td>\n",
              "      <td>-0.009329</td>\n",
              "      <td>0.005366</td>\n",
              "      <td>0.000703</td>\n",
              "      <td>-0.001827</td>\n",
              "      <td>-0.004014</td>\n",
              "      <td>-0.002076</td>\n",
              "      <td>0.004106</td>\n",
              "      <td>-0.003410</td>\n",
              "      <td>0.003998</td>\n",
              "      <td>-0.000890</td>\n",
              "      <td>-0.001551</td>\n",
              "      <td>-0.003332</td>\n",
              "      <td>0.010041</td>\n",
              "      <td>0.003596</td>\n",
              "      <td>0.007716</td>\n",
              "      <td>-0.011801</td>\n",
              "      <td>-0.002447</td>\n",
              "      <td>0.003646</td>\n",
              "      <td>-0.000662</td>\n",
              "      <td>-0.003183</td>\n",
              "      <td>-0.007060</td>\n",
              "      <td>-0.005297</td>\n",
              "      <td>0.005875</td>\n",
              "      <td>-0.003712</td>\n",
              "      <td>-0.006609</td>\n",
              "      <td>-0.003744</td>\n",
              "      <td>0.002881</td>\n",
              "      <td>0.002990</td>\n",
              "      <td>0.001210</td>\n",
              "      <td>-0.002326</td>\n",
              "      <td>...</td>\n",
              "      <td>NaN</td>\n",
              "      <td>NaN</td>\n",
              "      <td>NaN</td>\n",
              "      <td>NaN</td>\n",
              "      <td>NaN</td>\n",
              "      <td>NaN</td>\n",
              "      <td>NaN</td>\n",
              "      <td>NaN</td>\n",
              "      <td>NaN</td>\n",
              "      <td>NaN</td>\n",
              "      <td>NaN</td>\n",
              "      <td>NaN</td>\n",
              "      <td>NaN</td>\n",
              "      <td>NaN</td>\n",
              "      <td>NaN</td>\n",
              "      <td>NaN</td>\n",
              "      <td>NaN</td>\n",
              "      <td>NaN</td>\n",
              "      <td>NaN</td>\n",
              "      <td>NaN</td>\n",
              "      <td>NaN</td>\n",
              "      <td>NaN</td>\n",
              "      <td>NaN</td>\n",
              "      <td>NaN</td>\n",
              "      <td>NaN</td>\n",
              "      <td>NaN</td>\n",
              "      <td>NaN</td>\n",
              "      <td>NaN</td>\n",
              "      <td>NaN</td>\n",
              "      <td>NaN</td>\n",
              "      <td>NaN</td>\n",
              "      <td>NaN</td>\n",
              "      <td>NaN</td>\n",
              "      <td>NaN</td>\n",
              "      <td>NaN</td>\n",
              "      <td>NaN</td>\n",
              "      <td>NaN</td>\n",
              "      <td>NaN</td>\n",
              "      <td>NaN</td>\n",
              "      <td>NaN</td>\n",
              "    </tr>\n",
              "    <tr>\n",
              "      <th>4</th>\n",
              "      <td>hidden2</td>\n",
              "      <td>0.001159</td>\n",
              "      <td>0.000627</td>\n",
              "      <td>-0.008790</td>\n",
              "      <td>0.000000</td>\n",
              "      <td>-0.007082</td>\n",
              "      <td>-0.005181</td>\n",
              "      <td>-0.004394</td>\n",
              "      <td>0.000028</td>\n",
              "      <td>0.001316</td>\n",
              "      <td>-0.009105</td>\n",
              "      <td>0.005820</td>\n",
              "      <td>-0.009612</td>\n",
              "      <td>0.003591</td>\n",
              "      <td>-0.002112</td>\n",
              "      <td>-0.009244</td>\n",
              "      <td>-0.007272</td>\n",
              "      <td>-0.000356</td>\n",
              "      <td>-0.005328</td>\n",
              "      <td>0.000224</td>\n",
              "      <td>0.000537</td>\n",
              "      <td>0.006088</td>\n",
              "      <td>0.000109</td>\n",
              "      <td>-0.006568</td>\n",
              "      <td>0.001080</td>\n",
              "      <td>-0.003658</td>\n",
              "      <td>-0.002585</td>\n",
              "      <td>0.003467</td>\n",
              "      <td>0.000311</td>\n",
              "      <td>-0.009163</td>\n",
              "      <td>-0.004934</td>\n",
              "      <td>-0.000152</td>\n",
              "      <td>0.002466</td>\n",
              "      <td>-0.005147</td>\n",
              "      <td>0.001963</td>\n",
              "      <td>0.004965</td>\n",
              "      <td>-0.003190</td>\n",
              "      <td>-0.008308</td>\n",
              "      <td>0.002562</td>\n",
              "      <td>0.005501</td>\n",
              "      <td>...</td>\n",
              "      <td>-0.011792</td>\n",
              "      <td>-0.000368</td>\n",
              "      <td>-0.025908</td>\n",
              "      <td>0.051683</td>\n",
              "      <td>-0.023474</td>\n",
              "      <td>0.04021</td>\n",
              "      <td>-0.033419</td>\n",
              "      <td>0.050598</td>\n",
              "      <td>0.002373</td>\n",
              "      <td>-0.039943</td>\n",
              "      <td>-0.064876</td>\n",
              "      <td>-0.093418</td>\n",
              "      <td>0.066761</td>\n",
              "      <td>0.080848</td>\n",
              "      <td>-0.011822</td>\n",
              "      <td>-0.070522</td>\n",
              "      <td>-0.019679</td>\n",
              "      <td>-0.090626</td>\n",
              "      <td>0.087141</td>\n",
              "      <td>-0.098964</td>\n",
              "      <td>-0.050067</td>\n",
              "      <td>-0.032172</td>\n",
              "      <td>-0.053711</td>\n",
              "      <td>0.030051</td>\n",
              "      <td>0.006922</td>\n",
              "      <td>0.079313</td>\n",
              "      <td>-0.09383</td>\n",
              "      <td>0.049417</td>\n",
              "      <td>-0.021537</td>\n",
              "      <td>-0.021774</td>\n",
              "      <td>-0.095264</td>\n",
              "      <td>0.045041</td>\n",
              "      <td>0.097922</td>\n",
              "      <td>0.046329</td>\n",
              "      <td>-0.038193</td>\n",
              "      <td>-0.077887</td>\n",
              "      <td>-0.016976</td>\n",
              "      <td>0.053412</td>\n",
              "      <td>-0.03129</td>\n",
              "      <td>0.013849</td>\n",
              "    </tr>\n",
              "  </tbody>\n",
              "</table>\n",
              "<p>5 rows × 90301 columns</p>\n",
              "</div>"
            ],
            "text/plain": [
              "     0         1         2         3      ...     90297     90298    90299     90300\n",
              "0  R_input  0.000328 -0.003806 -0.001014  ...       NaN       NaN      NaN       NaN\n",
              "1  S_input -0.006528  0.000905 -0.004293  ...       NaN       NaN      NaN       NaN\n",
              "2   concat       NaN       NaN       NaN  ...       NaN       NaN      NaN       NaN\n",
              "3  hidden1  0.000000 -0.005244  0.001668  ...       NaN       NaN      NaN       NaN\n",
              "4  hidden2  0.001159  0.000627 -0.008790  ... -0.016976  0.053412 -0.03129  0.013849\n",
              "\n",
              "[5 rows x 90301 columns]"
            ]
          },
          "metadata": {
            "tags": []
          },
          "execution_count": 13
        }
      ]
    },
    {
      "cell_type": "code",
      "metadata": {
        "id": "wHMzDiUcGLmN"
      },
      "source": [
        "layer=df.shape[0]"
      ],
      "execution_count": null,
      "outputs": []
    },
    {
      "cell_type": "code",
      "metadata": {
        "colab": {
          "base_uri": "https://localhost:8080/"
        },
        "id": "Mds6PGR1HwkX",
        "outputId": "9ca911eb-ed0f-4def-f0e4-ab12bcc7bc31"
      },
      "source": [
        "df.info()"
      ],
      "execution_count": null,
      "outputs": [
        {
          "output_type": "stream",
          "text": [
            "<class 'pandas.core.frame.DataFrame'>\n",
            "RangeIndex: 12 entries, 0 to 11\n",
            "Columns: 90301 entries, 0 to 90300\n",
            "dtypes: float64(90300), object(1)\n",
            "memory usage: 8.3+ MB\n"
          ],
          "name": "stdout"
        }
      ]
    },
    {
      "cell_type": "code",
      "metadata": {
        "colab": {
          "base_uri": "https://localhost:8080/"
        },
        "id": "k5bdSE5-JtsL",
        "outputId": "6194d2fe-a6d8-4b66-cfd6-752586bd81bd"
      },
      "source": [
        "r = df.loc[0]\n",
        "len(r)"
      ],
      "execution_count": null,
      "outputs": [
        {
          "output_type": "execute_result",
          "data": {
            "text/plain": [
              "90301"
            ]
          },
          "metadata": {
            "tags": []
          },
          "execution_count": 21
        }
      ]
    },
    {
      "cell_type": "code",
      "metadata": {
        "colab": {
          "base_uri": "https://localhost:8080/"
        },
        "id": "CXi90MklKk7J",
        "outputId": "c7f66918-60ec-4d28-cacb-b8c26aefcc96"
      },
      "source": [
        "s = df.loc[1]\n",
        "len(s)"
      ],
      "execution_count": null,
      "outputs": [
        {
          "output_type": "execute_result",
          "data": {
            "text/plain": [
              "90301"
            ]
          },
          "metadata": {
            "tags": []
          },
          "execution_count": 22
        }
      ]
    },
    {
      "cell_type": "code",
      "metadata": {
        "colab": {
          "base_uri": "https://localhost:8080/"
        },
        "id": "nVqzqfbbKxaE",
        "outputId": "6bf4355d-6d9a-4ee8-ee86-7fc56c898055"
      },
      "source": [
        "for i in range(df.shape[0]):\n",
        "  x = df.loc[i]\n",
        "  x = x[x.notnull()]\n",
        "  print(x[0],end='')\n",
        "  print(',',len(x))"
      ],
      "execution_count": null,
      "outputs": [
        {
          "output_type": "stream",
          "text": [
            "R_input, 4033\n",
            "S_input, 157\n",
            "concat, 1\n",
            "hidden1, 22801\n",
            "hidden2, 90301\n",
            "hidden3, 90301\n",
            "hidden4, 90301\n",
            "hidden5, 90301\n",
            "hidden6, 90301\n",
            "output, 18964\n",
            "reliability_Input, 1\n",
            "syndrom_Input, 1\n"
          ],
          "name": "stdout"
        }
      ]
    },
    {
      "cell_type": "code",
      "metadata": {
        "id": "O0LSpNuKK_Tg"
      },
      "source": [
        ""
      ],
      "execution_count": null,
      "outputs": []
    }
  ]
}